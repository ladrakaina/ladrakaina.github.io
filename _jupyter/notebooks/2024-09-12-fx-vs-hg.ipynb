{
 "cells": [
  {
   "cell_type": "markdown",
   "id": "c23fe20b-53f3-4654-9ef5-78c9c06bb690",
   "metadata": {
    "editable": true,
    "slideshow": {
     "slide_type": ""
    },
    "tags": []
   },
   "source": [
    "---\n",
    "layout: article\n",
    "title: FX vs. HG, which is better?\n",
    "custom_css: article.css\n",
    "include_mathjax: true\n",
    "---"
   ]
  },
  {
   "cell_type": "code",
   "execution_count": null,
   "id": "b12f7da0-3e92-46df-8f5e-1cadd8dbd89c",
   "metadata": {
    "editable": true,
    "execution": {
     "iopub.execute_input": "2024-09-17T10:40:33.307174Z",
     "iopub.status.busy": "2024-09-17T10:40:33.306927Z",
     "iopub.status.idle": "2024-09-17T10:40:34.230603Z",
     "shell.execute_reply": "2024-09-17T10:40:34.229984Z"
    },
    "slideshow": {
     "slide_type": ""
    },
    "tags": [
     "remove_input"
    ]
   },
   "outputs": [],
   "source": [
    "# import necessary libs (available in jupyter/scipy-notebook docker image)\n",
    "import os\n",
    "import pandas as pd \n",
    "import numpy as np\n",
    "import matplotlib.pyplot as plt \n",
    "from matplotlib.ticker import FormatStrFormatter\n",
    "\n",
    "# define watermark \n",
    "def add_watermark(ax, x, y):\n",
    "    ax.text(ax.get_xlim()[0]+ x,\n",
    "            ax.get_ylim()[0]+ y,\n",
    "            \"grandragonrealty.com\",\n",
    "            alpha=0.3, fontsize=16)\n",
    "\n",
    "\n",
    "# globals\n",
    "HOME_DIR = '/home/jovyan/_jupyter'\n",
    "DATA_DIR = os.path.join(HOME_DIR, 'data')\n",
    "\n",
    "# read in csv data\n",
    "cities = pd.read_csv(os.path.join(DATA_DIR, 'fuxin_vs_hegang_09142024.csv'))"
   ]
  },
  {
   "cell_type": "markdown",
   "id": "05f18b55-7e83-4f38-8d27-ab948150cc80",
   "metadata": {
    "editable": true,
    "slideshow": {
     "slide_type": ""
    },
    "tags": []
   },
   "source": [
    "## Motivation ##\n",
    "\n",
    "This article is to help me understand why one environment is better than another.\n",
    "\n",
    "What we need from an environment is advantage. To me, this advantage translates to the following features of an environment:\n",
    "\n",
    "+ Low cost of living\n",
    "\n",
    "  It includes expenses on rent, food, and utilities.\n",
    "\n",
    "\n",
    "+ Low population density\n",
    "\n",
    "  The population includes both locals and tourists. Low population density means less noise, less disturbance, less competition, less attack. Therefore, I will have more advantage.\n",
    "  \n",
    "+ Longer winter\n",
    "\n",
    "  Heat and long daytime can drain our energy, and make us less clear and less grounded. On the other hand, coldness and night help us stay calm and rested.\n",
    "\n",
    "In this article, through visualization of their features, I want to compare two cities and the advantage I can potentially get from them.\n",
    "\n",
    " "
   ]
  },
  {
   "cell_type": "markdown",
   "id": "d1692088-89c3-44aa-97e9-aabaa478c5c9",
   "metadata": {
    "editable": true,
    "slideshow": {
     "slide_type": ""
    },
    "tags": []
   },
   "source": [
    "## Cost of living ##\n",
    "\n",
    "Figure 1 shows us the minimum cost of living in FX and HG. The cost of living in HG is 10% lower than FX mainly because of the lower rent there, which is highly probably caused by lower population density."
   ]
  },
  {
   "cell_type": "code",
   "execution_count": null,
   "id": "fcb9f5a3-e7c0-4340-87b0-72940c81aa7a",
   "metadata": {
    "editable": true,
    "execution": {
     "iopub.execute_input": "2024-09-17T10:40:34.233808Z",
     "iopub.status.busy": "2024-09-17T10:40:34.233509Z",
     "iopub.status.idle": "2024-09-17T10:40:34.420131Z",
     "shell.execute_reply": "2024-09-17T10:40:34.419352Z"
    },
    "slideshow": {
     "slide_type": ""
    },
    "tags": [
     "remove_input"
    ]
   },
   "outputs": [],
   "source": [
    "# plot population density\n",
    "x = cities[\"City\"]\n",
    "y = cities[\"Min_Rent\"] + 400\n",
    "\n",
    "fig_count = 1\n",
    "\n",
    "# set the style to a dark theme\n",
    "plt.style.use(\"dark_background\")\n",
    "\n",
    "# match website background\n",
    "plt.rcParams[\"figure.facecolor\"] = \"#181818\"\n",
    "plt.rcParams[\"axes.facecolor\"] = \"#181818\"\n",
    "plt.rcParams[\"axes.edgecolor\"] = \"#181818\"\n",
    "\n",
    "fig, ax = plt.subplots(figsize=(8, 6))\n",
    "\n",
    "bars = plt.bar(x, y, width =0.3)\n",
    "\n",
    "# add bar label\n",
    "ax.bar_label(bars, fontsize=9)\n",
    "\n",
    "\n",
    "# add watermark\n",
    "add_watermark(ax, 1, 1)\n",
    "\n",
    "plt.xticks(rotation=0, fontsize=10)\n",
    "plt.yticks(fontsize=10, color='black')\n",
    "plt.ylabel('Monthly Cost of living (Yuan)', fontsize=11)\n",
    "plt.xlabel('', fontsize=11)\n",
    "plt.xlim([-1,2])\n",
    "# set title\n",
    "plt.suptitle(\n",
    "    f\"Figure {fig_count}. Cost of Living: FX vs. HG\", y=0.0001, fontsize=10\n",
    ")\n",
    "fig_count += 1\n",
    "\n",
    "plt.show()"
   ]
  },
  {
   "cell_type": "markdown",
   "id": "ee337075-14ae-4089-8fa0-24d143f0ad8a",
   "metadata": {
    "editable": true,
    "slideshow": {
     "slide_type": ""
    },
    "tags": []
   },
   "source": [
    "## Population density ##\n",
    "\n",
    "From Figure 1 & 2, we can obviously see that HG not only has lower density of local residents than FX (55.87 vs. 177.4 people/square km), but also lower tourist density (445.87 1575.86 people/square km)."
   ]
  },
  {
   "cell_type": "code",
   "execution_count": null,
   "id": "e11f699f-7b07-4ffa-961e-5d9ba9d3a208",
   "metadata": {
    "editable": true,
    "execution": {
     "iopub.execute_input": "2024-09-17T10:40:34.424518Z",
     "iopub.status.busy": "2024-09-17T10:40:34.423907Z",
     "iopub.status.idle": "2024-09-17T10:40:34.582243Z",
     "shell.execute_reply": "2024-09-17T10:40:34.581232Z"
    },
    "slideshow": {
     "slide_type": ""
    },
    "tags": [
     "remove_input"
    ]
   },
   "outputs": [],
   "source": [
    "# plot population density\n",
    "x = cities[\"City\"]\n",
    "y = cities[\"Population_Density\"]\n",
    "\n",
    "# set the style to a dark theme\n",
    "plt.style.use(\"dark_background\")\n",
    "\n",
    "# match website background\n",
    "plt.rcParams[\"figure.facecolor\"] = \"#181818\"\n",
    "plt.rcParams[\"axes.facecolor\"] = \"#181818\"\n",
    "plt.rcParams[\"axes.edgecolor\"] = \"#181818\"\n",
    "\n",
    "fig, ax = plt.subplots(figsize=(8, 6))\n",
    "\n",
    "bars = plt.bar(x, y, width =0.3)\n",
    "\n",
    "# add bar label\n",
    "ax.bar_label(bars, fontsize=9)\n",
    "\n",
    "\n",
    "# add watermark\n",
    "add_watermark(ax, 1, 1)\n",
    "\n",
    "plt.xticks(rotation=0, fontsize=10)\n",
    "plt.yticks(fontsize=10, color='black')\n",
    "plt.ylabel('People per Square km', fontsize=11)\n",
    "plt.xlabel('', fontsize=11)\n",
    "plt.xlim([-1,2])\n",
    "# set title\n",
    "plt.suptitle(\n",
    "    f\"Figure {fig_count}. Population Density: FX vs. HG\", y=0.0001, fontsize=10\n",
    ")\n",
    "fig_count += 1\n",
    "\n",
    "plt.show()"
   ]
  },
  {
   "cell_type": "code",
   "execution_count": null,
   "id": "8a6c4058-d72b-47fe-ba0c-8336a9cc849d",
   "metadata": {
    "editable": true,
    "execution": {
     "iopub.execute_input": "2024-09-17T10:40:34.586047Z",
     "iopub.status.busy": "2024-09-17T10:40:34.585313Z",
     "iopub.status.idle": "2024-09-17T10:40:34.747656Z",
     "shell.execute_reply": "2024-09-17T10:40:34.746916Z"
    },
    "slideshow": {
     "slide_type": ""
    },
    "tags": [
     "remove_input"
    ]
   },
   "outputs": [],
   "source": [
    "# plot residents and tourist density\n",
    "\n",
    "y = cities['Number_of_Tourists_10k'] / cities['Area_km2'] * 10000\n",
    "x = cities['City']\n",
    "\n",
    "# set the style to a dark theme\n",
    "plt.style.use(\"dark_background\")\n",
    "\n",
    "# match website background\n",
    "plt.rcParams[\"figure.facecolor\"] = \"#181818\"\n",
    "plt.rcParams[\"axes.facecolor\"] = \"#181818\"\n",
    "plt.rcParams[\"axes.edgecolor\"] = \"#181818\"\n",
    "\n",
    "fig, ax = plt.subplots(figsize=(8, 6))\n",
    "\n",
    "bars = plt.bar(x, y, width =0.3)\n",
    "\n",
    "# add bar label\n",
    "ax.bar_label(bars, fontsize=9)\n",
    "\n",
    "\n",
    "# add watermark\n",
    "add_watermark(ax, 1, 1)\n",
    "\n",
    "plt.xticks(rotation=0, fontsize=10)\n",
    "plt.yticks(fontsize=10, color='black')\n",
    "plt.ylabel('People per Square km', fontsize=11)\n",
    "plt.xlabel('', fontsize=11)\n",
    "plt.xlim([-1,2])\n",
    "# set title\n",
    "plt.suptitle(\n",
    "    f\"Figure {fig_count}. Tourist Density: FX vs. HG\", y=0.0001, fontsize=10\n",
    ")\n",
    "fig_count += 1\n",
    "\n",
    "plt.show()"
   ]
  },
  {
   "cell_type": "markdown",
   "id": "f056e8f8-ed62-4274-974d-a315ecba382d",
   "metadata": {},
   "source": [
    "Due to the interplay between population density and economy, lower population density tends to indicate that the economy is less developed and there are less economical activities, such as businesses and tourism. This can be validated through the data on GDP (Figure 3), tourism income (Figure 4), and number of hotels (Figure 5)."
   ]
  },
  {
   "cell_type": "code",
   "execution_count": null,
   "id": "b2684c96-dff7-4718-bc86-2e9a09d8884e",
   "metadata": {
    "editable": true,
    "execution": {
     "iopub.execute_input": "2024-09-17T10:40:34.750751Z",
     "iopub.status.busy": "2024-09-17T10:40:34.750453Z",
     "iopub.status.idle": "2024-09-17T10:40:34.877544Z",
     "shell.execute_reply": "2024-09-17T10:40:34.876697Z"
    },
    "slideshow": {
     "slide_type": ""
    },
    "tags": [
     "remove_input"
    ]
   },
   "outputs": [],
   "source": [
    "# plot residents and tourist density\n",
    "\n",
    "y = cities['GDP_2019_100mil']\n",
    "x = cities['City']\n",
    "\n",
    "# set the style to a dark theme\n",
    "plt.style.use(\"dark_background\")\n",
    "\n",
    "# match website background\n",
    "plt.rcParams[\"figure.facecolor\"] = \"#181818\"\n",
    "plt.rcParams[\"axes.facecolor\"] = \"#181818\"\n",
    "plt.rcParams[\"axes.edgecolor\"] = \"#181818\"\n",
    "\n",
    "fig, ax = plt.subplots(figsize=(8, 6))\n",
    "\n",
    "bars = plt.bar(x, y, width =0.3)\n",
    "\n",
    "# add bar label\n",
    "ax.bar_label(bars, fontsize=9)\n",
    "\n",
    "\n",
    "# add watermark\n",
    "add_watermark(ax, 1, 1)\n",
    "\n",
    "plt.xticks(rotation=0, fontsize=10)\n",
    "plt.yticks(fontsize=10, color='black')\n",
    "plt.ylabel('GDP (100 Million)', fontsize=11)\n",
    "plt.xlabel('', fontsize=11)\n",
    "plt.xlim([-1,2])\n",
    "# set title\n",
    "plt.suptitle(\n",
    "    f\"Figure {fig_count}. 2019 GDP: FX vs. HG\", y=0.0001, fontsize=10\n",
    ")\n",
    "fig_count += 1\n",
    "\n",
    "plt.show()\n",
    "\n"
   ]
  },
  {
   "cell_type": "code",
   "execution_count": null,
   "id": "621e4e57-b562-4bd5-8d2d-6947ad442bec",
   "metadata": {
    "editable": true,
    "execution": {
     "iopub.execute_input": "2024-09-17T10:40:34.880288Z",
     "iopub.status.busy": "2024-09-17T10:40:34.880011Z",
     "iopub.status.idle": "2024-09-17T10:40:35.011365Z",
     "shell.execute_reply": "2024-09-17T10:40:35.010671Z"
    },
    "slideshow": {
     "slide_type": ""
    },
    "tags": [
     "remove_input"
    ]
   },
   "outputs": [],
   "source": [
    "# plot residents and tourist density\n",
    "\n",
    "y = cities['Tourism_Income_100mil']\n",
    "x = cities['City']\n",
    "\n",
    "# set the style to a dark theme\n",
    "plt.style.use(\"dark_background\")\n",
    "\n",
    "# match website background\n",
    "plt.rcParams[\"figure.facecolor\"] = \"#181818\"\n",
    "plt.rcParams[\"axes.facecolor\"] = \"#181818\"\n",
    "plt.rcParams[\"axes.edgecolor\"] = \"#181818\"\n",
    "\n",
    "fig, ax = plt.subplots(figsize=(8, 6))\n",
    "\n",
    "bars = plt.bar(x, y, width =0.3)\n",
    "\n",
    "# add bar label\n",
    "ax.bar_label(bars, fontsize=9)\n",
    "\n",
    "\n",
    "# add watermark\n",
    "add_watermark(ax, 1, 1)\n",
    "\n",
    "plt.xticks(rotation=0, fontsize=10)\n",
    "plt.yticks(fontsize=10, color='black')\n",
    "plt.ylabel('Tourism Income (100 Million)', fontsize=11)\n",
    "plt.xlabel('', fontsize=11)\n",
    "plt.xlim([-1,2])\n",
    "# set title\n",
    "plt.suptitle(\n",
    "    f\"Figure {fig_count}. 2019 Tourism Income: FX vs. HG\", y=0.0001, fontsize=10\n",
    ")\n",
    "fig_count += 1\n",
    "\n",
    "plt.show()"
   ]
  },
  {
   "cell_type": "code",
   "execution_count": null,
   "id": "2c6d522d-067e-441c-a798-e0d619982491",
   "metadata": {
    "editable": true,
    "execution": {
     "iopub.execute_input": "2024-09-17T10:40:35.014491Z",
     "iopub.status.busy": "2024-09-17T10:40:35.014059Z",
     "iopub.status.idle": "2024-09-17T10:40:35.146366Z",
     "shell.execute_reply": "2024-09-17T10:40:35.145623Z"
    },
    "slideshow": {
     "slide_type": ""
    },
    "tags": [
     "remove_input"
    ]
   },
   "outputs": [],
   "source": [
    "# plot residents and tourist density\n",
    "\n",
    "y = cities['Number_of_Hotels']\n",
    "x = cities['City']\n",
    "\n",
    "# set the style to a dark theme\n",
    "plt.style.use(\"dark_background\")\n",
    "\n",
    "# match website background\n",
    "plt.rcParams[\"figure.facecolor\"] = \"#181818\"\n",
    "plt.rcParams[\"axes.facecolor\"] = \"#181818\"\n",
    "plt.rcParams[\"axes.edgecolor\"] = \"#181818\"\n",
    "\n",
    "fig, ax = plt.subplots(figsize=(8, 6))\n",
    "\n",
    "bars = plt.bar(x, y, width =0.3)\n",
    "\n",
    "# add bar label\n",
    "ax.bar_label(bars, fontsize=9)\n",
    "\n",
    "\n",
    "# add watermark\n",
    "add_watermark(ax, 1, 1)\n",
    "\n",
    "plt.xticks(rotation=0, fontsize=10)\n",
    "plt.yticks(fontsize=10, color='black')\n",
    "plt.ylabel('Number of Hotels', fontsize=11)\n",
    "plt.xlabel('', fontsize=11)\n",
    "plt.xlim([-1,2])\n",
    "# set title\n",
    "plt.suptitle(\n",
    "    f\"Figure {fig_count}. Number of Hotels: FX vs. HG\", y=0.0001, fontsize=10\n",
    ")\n",
    "fig_count += 1\n",
    "\n",
    "plt.show()"
   ]
  },
  {
   "cell_type": "markdown",
   "id": "8c5b9b7b-2253-4307-877a-f97b4b01e2d1",
   "metadata": {
    "editable": true,
    "slideshow": {
     "slide_type": ""
    },
    "tags": []
   },
   "source": [
    "## Length of winter ##\n",
    "\n",
    "The length of winter is calculated through the number of months the indoor heating system is on. Due to the geolocations, HG, closer to the arctic circle, has a longer winter (October to April) than FX (November to March). Meanwhile, HG's highest temperature during summer is 84℉ (2024), while FX's is 93℉ (2024).\n"
   ]
  },
  {
   "cell_type": "code",
   "execution_count": null,
   "id": "22cf44f1-d31f-4e72-9b6d-b18a8f1a8c6c",
   "metadata": {
    "editable": true,
    "execution": {
     "iopub.execute_input": "2024-09-17T10:40:35.149416Z",
     "iopub.status.busy": "2024-09-17T10:40:35.149168Z",
     "iopub.status.idle": "2024-09-17T10:40:35.283997Z",
     "shell.execute_reply": "2024-09-17T10:40:35.283048Z"
    },
    "slideshow": {
     "slide_type": ""
    },
    "tags": [
     "remove_input"
    ]
   },
   "outputs": [],
   "source": [
    "# plot residents and tourist density\n",
    "\n",
    "y = cities['Mon_of_Winter']\n",
    "x = cities['City']\n",
    "\n",
    "# set the style to a dark theme\n",
    "plt.style.use(\"dark_background\")\n",
    "\n",
    "# match website background\n",
    "plt.rcParams[\"figure.facecolor\"] = \"#181818\"\n",
    "plt.rcParams[\"axes.facecolor\"] = \"#181818\"\n",
    "plt.rcParams[\"axes.edgecolor\"] = \"#181818\"\n",
    "\n",
    "fig, ax = plt.subplots(figsize=(8, 6))\n",
    "\n",
    "bars = plt.bar(x, y, width =0.3)\n",
    "\n",
    "# add bar label\n",
    "ax.bar_label(bars, fontsize=9)\n",
    "\n",
    "\n",
    "# add watermark\n",
    "add_watermark(ax, 1, 1)\n",
    "\n",
    "plt.xticks(rotation=0, fontsize=10)\n",
    "plt.yticks(fontsize=10, color='black')\n",
    "plt.ylabel('Number of Months', fontsize=11)\n",
    "plt.xlabel('', fontsize=11)\n",
    "plt.xlim([-1,2])\n",
    "# set title\n",
    "plt.suptitle(\n",
    "    f\"Figure {fig_count}. Length of Winter: FX vs. HG\", y=0.0001, fontsize=10\n",
    ")\n",
    "fig_count += 1\n",
    "\n",
    "plt.show()"
   ]
  },
  {
   "cell_type": "markdown",
   "id": "2bfff85d-8792-4df8-bcd6-a2271fc8e32b",
   "metadata": {
    "editable": true,
    "slideshow": {
     "slide_type": ""
    },
    "tags": []
   },
   "source": [
    "## Conclusion ##\n",
    "\n",
    "Through the above analysis, we can obviously see, based on the features that are important to me (i.e. cost of living, population density, and the length of winter), HG is a better environment."
   ]
  }
 ],
 "metadata": {
  "kernelspec": {
   "display_name": "Python 3 (ipykernel)",
   "language": "python",
   "name": "python3"
  },
  "language_info": {
   "codemirror_mode": {
    "name": "ipython",
    "version": 3
   },
   "file_extension": ".py",
   "mimetype": "text/x-python",
   "name": "python",
   "nbconvert_exporter": "python",
   "pygments_lexer": "ipython3",
   "version": "3.11.8"
  }
 },
 "nbformat": 4,
 "nbformat_minor": 5
}
