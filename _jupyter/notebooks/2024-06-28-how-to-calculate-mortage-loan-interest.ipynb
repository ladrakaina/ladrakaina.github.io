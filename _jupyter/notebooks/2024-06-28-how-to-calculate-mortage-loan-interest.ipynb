{
 "cells": [
  {
   "cell_type": "raw",
   "id": "6da485ce-de51-4899-a09c-8b8d9956e988",
   "metadata": {
    "editable": true,
    "raw_mimetype": "",
    "slideshow": {
     "slide_type": ""
    },
    "tags": []
   },
   "source": [
    "---\n",
    "layout: article\n",
    "title: How to calculate mortgage loan interest and payment?\n",
    "custom_css: article.css\n",
    "include_mathjax: true\n",
    "---"
   ]
  },
  {
   "cell_type": "markdown",
   "id": "253566b8-702e-4c44-b96f-8f1667fc9f4b",
   "metadata": {
    "editable": true,
    "slideshow": {
     "slide_type": ""
    },
    "tags": []
   },
   "source": [
    "In China, there are two methods for mortgage loan payment:\n",
    "\n",
    "+ Method 1: Equal principle\n",
    "+ Method 2: Equal monthly payment\n",
    "\n",
    "## Method 1: Equal principle ##\n",
    "\n",
    "Every month, the debtor pays back an equal amount of principle, plus interest. Interest equals to the unpaid principle multiplied by interest rate.\n",
    "\n",
    "$$\n",
    "X_{n} = \\frac{P}{12y} + P[1-(\\frac{n-1}{12y})](\\frac{R}{12})\n",
    "$$\n",
    "\n",
    "$X_{n}$: n month's payment\n",
    "\n",
    "P: The principle that is borrowed from the bank\n",
    "\n",
    "y: Number of years for the mortage loan\n",
    "\n",
    "R: Yearly interest rate\n",
    "\n",
    "After the loan is completely paid off, how much in total (T) have you paid to the bank?\n",
    "\n",
    "$$\n",
    "T = P + \\sum_{i=1}^nP[1-(\\frac{n-1}{12y})](\\frac{R}{12})\n",
    "$$\n",
    "  \n",
    "If we assume that you took a 10,000-dollar and 20-year loan from the bank with 5% yearly interest rate, let's look at with time how $X_{n}$ changes. \n",
    "\n",
    "From Figure 1, we can see the monthly payment (green line) decreases linearly with time; The principle paid monthly (yellow line) stays constant; The interest paid monthly (purple line) decreases linearly with time. "
   ]
  },
  {
   "cell_type": "code",
   "execution_count": null,
   "id": "4557c941-ab8f-401b-bd6e-c5e165ee901c",
   "metadata": {
    "editable": true,
    "execution": {
     "iopub.execute_input": "2024-07-01T12:06:11.554599Z",
     "iopub.status.busy": "2024-07-01T12:06:11.554006Z",
     "iopub.status.idle": "2024-07-01T12:06:11.887556Z",
     "shell.execute_reply": "2024-07-01T12:06:11.886905Z"
    },
    "slideshow": {
     "slide_type": ""
    },
    "tags": [
     "remove_input"
    ]
   },
   "outputs": [],
   "source": [
    "# get optimization libs\n",
    "from scipy.optimize import minimize\n",
    "\n",
    "# define functions\n",
    "def calculate_interest_n(P: float, R: float, y: int, n: int):\n",
    "    \"\"\"Calculate monthly interest given the initial values for principle, interest rate, and years\"\"\"\n",
    "    interest_n = P * (1-((n-1)/(12*y))) * (R/12)\n",
    "\n",
    "    # finished\n",
    "    return interest_n\n",
    "\n",
    "def calculate_principle_n(P: float, R: float, y: int, n: int): \n",
    "    \"\"\"Calculate monthly interest given the initial values for principle, interest rate, and years\"\"\"\n",
    "    principle_n = P / 12 / y \n",
    "\n",
    "    # finished\n",
    "    return principle_n\n",
    "\n",
    "def calculate_x_n(P: float, R: float, y: int, n: int):\n",
    "    \"\"\"Calculate monthly interest given the initial values for principle, interest rate, and years\"\"\"\n",
    "    # get all N terms\n",
    "    X_n = P/(12*y) + P * (1-((n-1)/(12*y))) * (R/12)\n",
    "\n",
    "    # finished\n",
    "    return X_n\n",
    "\n",
    "def calculate_total_n(P: float, R: float, y: int, n: int):\n",
    "    \"\"\"Calculate monthly interest given the initial values for principle, interest rate, and years\"\"\"\n",
    "    # get all N terms\n",
    "    t_n = 0\n",
    "    \n",
    "    for n in range(1, n):\n",
    "        x_n = P/(12*y) + P * (1-((n-1)/(12*y))) * (R/12)\n",
    "        t_n += x_n\n",
    "\n",
    "    # finished\n",
    "    return t_n"
   ]
  },
  {
   "cell_type": "code",
   "execution_count": null,
   "id": "50e7b551-531c-4518-8d35-ddf5ece8b213",
   "metadata": {
    "editable": true,
    "execution": {
     "iopub.execute_input": "2024-07-01T12:06:11.891010Z",
     "iopub.status.busy": "2024-07-01T12:06:11.890628Z",
     "iopub.status.idle": "2024-07-01T12:06:12.436721Z",
     "shell.execute_reply": "2024-07-01T12:06:12.435975Z"
    },
    "slideshow": {
     "slide_type": ""
    },
    "tags": [
     "remove_input"
    ]
   },
   "outputs": [],
   "source": [
    "# get plotting libs\n",
    "import matplotlib.pyplot as plt\n",
    "import numpy as np\n",
    "\n",
    "# set initial figure counter to 1\n",
    "fig_count = 1\n",
    "\n",
    "# set the style to a dark theme\n",
    "plt.style.use(\"dark_background\")\n",
    "\n",
    "# match website background\n",
    "plt.rcParams[\"figure.facecolor\"] = \"#181818\"\n",
    "plt.rcParams[\"axes.facecolor\"] = \"#181818\"\n",
    "plt.rcParams[\"axes.edgecolor\"] = \"#181818\"\n",
    "\n",
    "# set values\n",
    "P = 100000\n",
    "y = 20\n",
    "R = 0.05\n",
    "\n",
    "\n",
    "# generate n/Xn pairs\n",
    "n_values = np.arange(0, 240, 1)\n",
    "x_n_values = np.array([calculate_x_n(P, R, y, n) for n in n_values])\n",
    "monthly_principle = np.array([calculate_principle_n(P, R, y, n) for n in n_values])\n",
    "monthly_interest = np.array([calculate_interest_n(P, R, y, n) for n in n_values])\n",
    "\n",
    "\n",
    "# plotting the data\n",
    "plt.plot(n_values, x_n_values, label=\"Monthly payment\")\n",
    "plt.plot(n_values, monthly_principle, label=\"Monthly principle\")\n",
    "plt.plot(n_values, monthly_interest, label=\"Monthly interest\")\n",
    "\n",
    "# adding labels and title\n",
    "plt.xlabel(\"Month\")\n",
    "plt.ylabel(\"Monthly payment ($)\")\n",
    "plt.ylim(0, 1000)\n",
    "# set title\n",
    "plt.suptitle(\n",
    "     f\"Figure {fig_count}. Monthly payment of the Mortgage Loan Under Equal Principle Method\", y=0.0001, fontsize=10,\n",
    ")\n",
    "\n",
    "fig_count += 1\n",
    "\n",
    "# displaying the plot\n",
    "plt.legend()\n",
    "plt.show()"
   ]
  },
  {
   "cell_type": "markdown",
   "id": "0551ffad-262c-4a1c-aa5f-fe25bd29a101",
   "metadata": {
    "editable": true,
    "slideshow": {
     "slide_type": ""
    },
    "tags": []
   },
   "source": [
    "In Figure 2, we calculated the total amount of money paid up till nth month. When the loan is completely paid off, the total Payment under method one is:\n",
    "\n",
    "$$\n",
    "total_{I} = 149369.79\n",
    "$$"
   ]
  },
  {
   "cell_type": "code",
   "execution_count": null,
   "id": "762c5df0-cd0f-4f52-85ba-4424166815f0",
   "metadata": {
    "editable": true,
    "execution": {
     "iopub.execute_input": "2024-07-01T12:06:12.439583Z",
     "iopub.status.busy": "2024-07-01T12:06:12.439211Z",
     "iopub.status.idle": "2024-07-01T12:06:12.610141Z",
     "shell.execute_reply": "2024-07-01T12:06:12.609346Z"
    },
    "slideshow": {
     "slide_type": ""
    },
    "tags": [
     "remove_input"
    ]
   },
   "outputs": [],
   "source": [
    "# get plotting libs\n",
    "import matplotlib.pyplot as plt\n",
    "import numpy as np\n",
    "\n",
    "# set the style to a dark theme\n",
    "plt.style.use(\"dark_background\")\n",
    "\n",
    "# match website background\n",
    "plt.rcParams[\"figure.facecolor\"] = \"#181818\"\n",
    "plt.rcParams[\"axes.facecolor\"] = \"#181818\"\n",
    "plt.rcParams[\"axes.edgecolor\"] = \"#181818\"\n",
    "\n",
    "# set values\n",
    "P = 100000\n",
    "y = 20\n",
    "R = 0.05\n",
    "\n",
    "\n",
    "# generate n/total_n pairs\n",
    "total_n = np.array([calculate_total_n(P, R, y, n) for n in n_values])\n",
    "\n",
    "# plotting the data\n",
    "plt.plot(n_values, total_n, label=\"Total payment\")\n",
    "\n",
    "# adding labels and title\n",
    "plt.xlabel(\"Month\")\n",
    "plt.ylabel(\"Total payment ($)\")\n",
    "plt.ylim(0, 200000)\n",
    "# set title\n",
    "plt.suptitle(\n",
    "     f\"Figure {fig_count}. Total payment of the Mortgage Loan Under Equal Principle Method\", y=0.0001, fontsize=10,\n",
    ")\n",
    "\n",
    "fig_count += 1\n",
    "\n",
    "# displaying the plot\n",
    "plt.legend()\n",
    "plt.show()"
   ]
  },
  {
   "cell_type": "markdown",
   "id": "7f5c5f1a-c448-40b6-b42d-dd05b528eaf4",
   "metadata": {
    "editable": true,
    "slideshow": {
     "slide_type": ""
    },
    "tags": []
   },
   "source": [
    "## Method 2: Equal monthly payment ##\n",
    "\n",
    "Every month, the debtor pays back an equal sum of principle and interest.\n",
    "\n",
    "This method is more complicated to calculate than the first one, so I will explain in detail.\n",
    "\n",
    "L: The rest of the loan that needs to be paid to the bank\n",
    "\n",
    "P: The principle borrowed from the bank\n",
    "\n",
    "r: Monthly interest rate, r = R/12, R is yearly interest rate\n",
    "\n",
    "X: Monthly payment to the bank\n",
    "\n",
    "Y: The number of years for the loan\n",
    "\n",
    "At the end of the **1st month**, after the first payment, the amount of loan left:\n",
    "\n",
    "$$\n",
    "L_{1}= P(1+r) - X\n",
    "$$\n",
    "\n",
    "\n",
    "**2nd month**, the amount of loan left: \n",
    "\n",
    "$$\n",
    "L_{2} = L_{1}(1+r) - X = [P(1+r) - X](1+r) - X = P(1+r)^2 - X[1+(1+r)]\n",
    "$$\n",
    "\n",
    "**3rd month**: \n",
    "\n",
    "$$\n",
    "L_{2} = L_{2}(1+r) - X = {P(1+r)^2 - X[1+(1+r)]}(1+r) - X = P(1+r)^3 - X[1+(1+r)+(1+r)^2]\n",
    "$$\n",
    "\n",
    "or \n",
    "\n",
    "$$\n",
    "L_{3} = P(1+r)^3 - X[1+(1+r)+(1+r)^2]\n",
    "$$\n",
    "\n",
    "**4th month**:\n",
    "$$\n",
    "L_{4} = P(1+r)^4 - X[1+(1+r)+(1+r)^2+(1+r)^3]\n",
    "$$\n",
    "\n",
    "...\n",
    "\n",
    "**Nth month**:\n",
    "\n",
    "$$\n",
    "L_{n} = P(1+r)^n - X[1+(1+r)+(1+r)^2+...+(1+r)^{n-1}]\n",
    "$$\n",
    "\n",
    "Let's observe the second part of the equation $X[1+(1+r)+(1+r)^2+...+(1+r)^{n-1}]$ contains a geometric series. Let's briefly review the formula of geometric series:\n",
    "\n",
    "$$\n",
    "S_{n} = a + aj + aj^2 + aj^3 + ... + aj^{n-1}\n",
    "$$\n",
    "\n",
    "$$\n",
    "jS_{n} = aj + aj^2 + aj^2 + aj^3 + ... + aj^{n-1} + aj^n\n",
    "$$\n",
    "\n",
    "$$\n",
    "(1-j)S_{n} = a - aj^n\n",
    "$$\n",
    "\n",
    "$$\n",
    "S_{n} = \\frac{a(1-j^n)}{1-j}\n",
    "$$\n",
    "\n",
    "\n",
    "therefore we can further simplify the above loan equation:\n",
    "\n",
    "$$\n",
    "L_{n} = P(1+r)^n + X{\\frac{1-(1+r)^n}{r}}\n",
    "$$\n",
    "\n",
    "When the loan is completely paid off, i.e. $n = 12Y, L_{12Y} = 0$, and since P and r are known, we can finally  calculate monthly payment X:\n",
    "\n",
    "$$\n",
    "X = \\frac{rP(1+r)^n}{((1+r)^n-1}\n",
    "$$\n",
    "\n",
    "And we can also replace the monthly interest rate r with yearly rate R, which is normally given by the banks:\n",
    "\n",
    "$$\n",
    "X = \\frac{\\frac{R}{12}P(1+\\frac{R}{12})^n}{(1+\\frac{R}{12})^n-1}\n",
    "$$"
   ]
  },
  {
   "cell_type": "markdown",
   "id": "9850b59e-7cfd-4fa2-9911-4c9265f2fc1b",
   "metadata": {
    "editable": true,
    "slideshow": {
     "slide_type": ""
    },
    "tags": []
   },
   "source": [
    "In Figure 3, the monthly payment is constant; the monthly interest decreases with time; the monthly principle paid to the bank increases with time. In the beginning, the interest is higher than the principle paid back to the bank, which means in your monthly payment, majority of what you are paying is interest."
   ]
  },
  {
   "cell_type": "code",
   "execution_count": null,
   "id": "9ec262a8-0fd1-47fd-bd85-771e630c9cc6",
   "metadata": {
    "editable": true,
    "execution": {
     "iopub.execute_input": "2024-07-01T12:06:12.613251Z",
     "iopub.status.busy": "2024-07-01T12:06:12.612954Z",
     "iopub.status.idle": "2024-07-01T12:06:12.620290Z",
     "shell.execute_reply": "2024-07-01T12:06:12.619630Z"
    },
    "slideshow": {
     "slide_type": ""
    },
    "tags": [
     "remove_input"
    ]
   },
   "outputs": [],
   "source": [
    "# define functions\n",
    "def calculate_x_n(P: float, R: float, y: int, n: int):\n",
    "    \"\"\"Calculate monthly interest given the initial values for principle, interest rate, and years\"\"\"\n",
    "    # get all N terms\n",
    "    x_n = R/12 * P * (1+R/12)**(12*y) / ((1+R/12)**(12*y) - 1)\n",
    "\n",
    "    # finished\n",
    "    return x_n\n",
    "\n",
    "def calculate_total_n(P: float, R: float, y: int, n: int):\n",
    "    \"\"\"Calculate total payment for n months given the initial values for principle, interest rate, and years\"\"\"\n",
    "    x_n = R/12 * P * (1+R/12)**(12*y) / ((1+R/12)**(12*y) - 1)\n",
    "    t_n = x_n * n\n",
    "    \n",
    "    return t_n\n",
    "\n",
    "def calculate_interest_n(P: float, R: float, y: int, n: int):\n",
    "    \"\"\"Calculate monthly interest given the initial values for principle, interest rate, and years\"\"\"\n",
    "    x_n = R/12 * P * (1+R/12)**(12*y) / ((1+R/12)**(12*y) - 1)\n",
    "    l_n_minus_one =  P * (1+R/12)**(n-1) + x_n * (1-(1+R/12)**(n-1))/(R/12)\n",
    "    interest_n = l_n_minus_one * R/12\n",
    "\n",
    "    # finished\n",
    "    return interest_n\n",
    "\n",
    "def calculate_principle_n(P: float, R: float, y: int, n: int): \n",
    "    \"\"\"Calculate monthly interest given the initial values for principle, interest rate, and years\"\"\"\n",
    "    x_n = R/12 * P * (1+R/12)**(12*y) / ((1+R/12)**(12*y) - 1)\n",
    "    l_n_minus_one =  P * (1+R/12)**(n-1) + x_n * (1-(1+R/12)**(n-1))/(R/12)\n",
    "    interest_n = l_n_minus_one * R/12\n",
    "    principle_n = x_n - interest_n \n",
    "\n",
    "    # finished\n",
    "    return principle_n"
   ]
  },
  {
   "cell_type": "code",
   "execution_count": null,
   "id": "bba613d8-2b83-47c0-8895-53b945ae7a76",
   "metadata": {
    "editable": true,
    "execution": {
     "iopub.execute_input": "2024-07-01T12:06:12.623035Z",
     "iopub.status.busy": "2024-07-01T12:06:12.622787Z",
     "iopub.status.idle": "2024-07-01T12:06:12.791650Z",
     "shell.execute_reply": "2024-07-01T12:06:12.790747Z"
    },
    "slideshow": {
     "slide_type": ""
    },
    "tags": [
     "remove_input"
    ]
   },
   "outputs": [],
   "source": [
    "# get plotting libs\n",
    "import matplotlib.pyplot as plt\n",
    "import numpy as np\n",
    "\n",
    "# set the style to a dark theme\n",
    "plt.style.use(\"dark_background\")\n",
    "\n",
    "# match website background\n",
    "plt.rcParams[\"figure.facecolor\"] = \"#181818\"\n",
    "plt.rcParams[\"axes.facecolor\"] = \"#181818\"\n",
    "plt.rcParams[\"axes.edgecolor\"] = \"#181818\"\n",
    "\n",
    "# set values\n",
    "P = 100000\n",
    "y = 20\n",
    "R = 0.05\n",
    "\n",
    "\n",
    "# generate n/Xn pairs\n",
    "n_values = np.arange(1, 240, 1)\n",
    "x_n_values = np.array([calculate_x_n(P, R, y, n) for n in n_values])\n",
    "monthly_interest = np.array([calculate_interest_n(P, R, y, n) for n in n_values])\n",
    "monthly_principle = np.array([calculate_principle_n(P, R, y, n) for n in n_values])\n",
    "\n",
    "\n",
    "# plotting the data\n",
    "plt.plot(n_values, x_n_values, label=\"Monthly payment\")\n",
    "plt.plot(n_values, monthly_principle, label=\"Monthly principle\")\n",
    "plt.plot(n_values, monthly_interest, label=\"Monthly interest\")\n",
    "\n",
    "# adding labels and title\n",
    "plt.xlabel(\"Month\")\n",
    "plt.ylabel(\"Monthly payment ($)\")\n",
    "plt.ylim(0, 1000)\n",
    "# set title\n",
    "plt.suptitle(\n",
    "     f\"Figure {fig_count}. Monthly payment of the Mortgage Loan Under Equal Payment Method\", y=0.0001, fontsize=10,\n",
    ")\n",
    "\n",
    "fig_count += 1\n",
    "\n",
    "# displaying the plot\n",
    "plt.legend()\n",
    "plt.show()"
   ]
  },
  {
   "cell_type": "markdown",
   "id": "c523bca7-00f2-40ee-9c68-3f84da4b965f",
   "metadata": {
    "editable": true,
    "slideshow": {
     "slide_type": ""
    },
    "tags": []
   },
   "source": [
    "Now let's look at under method 2, when the loan is completely paid off, how much have you paid?\n",
    "\n",
    "Figure 4 shows the total amount of money paid up till nth month. When the loan is completely paid off, the total Payment under method two is:\n",
    "\n",
    "$$\n",
    "total_{II} = 157729.42\n",
    "$$\n",
    "\n",
    "and \n",
    "$$\n",
    "total_{I} = 149369.79\n",
    "$$\n",
    "\n",
    "Obviously the total payment of the first method is lower than that of the second method. "
   ]
  },
  {
   "cell_type": "code",
   "execution_count": null,
   "id": "050e39d4-6710-4fd5-8381-b5367f8bea1f",
   "metadata": {
    "editable": true,
    "execution": {
     "iopub.execute_input": "2024-07-01T12:06:12.794611Z",
     "iopub.status.busy": "2024-07-01T12:06:12.794337Z",
     "iopub.status.idle": "2024-07-01T12:06:12.959722Z",
     "shell.execute_reply": "2024-07-01T12:06:12.958941Z"
    },
    "slideshow": {
     "slide_type": ""
    },
    "tags": [
     "remove_input"
    ]
   },
   "outputs": [],
   "source": [
    "# get plotting libs\n",
    "import matplotlib.pyplot as plt\n",
    "import numpy as np\n",
    "\n",
    "# set the style to a dark theme\n",
    "plt.style.use(\"dark_background\")\n",
    "\n",
    "# match website background\n",
    "plt.rcParams[\"figure.facecolor\"] = \"#181818\"\n",
    "plt.rcParams[\"axes.facecolor\"] = \"#181818\"\n",
    "plt.rcParams[\"axes.edgecolor\"] = \"#181818\"\n",
    "\n",
    "# set values\n",
    "P = 100000\n",
    "y = 20\n",
    "R = 0.05\n",
    "\n",
    "\n",
    "# generate n/total_n pairs\n",
    "total_n = np.array([calculate_total_n(P, R, y, n) for n in n_values])\n",
    "\n",
    "# plotting the data\n",
    "plt.plot(n_values, total_n, label=\"Total payment\")\n",
    "\n",
    "# adding labels and title\n",
    "plt.xlabel(\"Month\")\n",
    "plt.ylabel(\"Total payment ($)\")\n",
    "plt.ylim(0, 200000)\n",
    "# set title\n",
    "plt.suptitle(\n",
    "     f\"Figure {fig_count}. Total payment of the Mortgage Loan Under Equal Payment Method\", y=0.0001, fontsize=10,\n",
    ")\n",
    "\n",
    "fig_count += 1\n",
    "\n",
    "# displaying the plot\n",
    "plt.legend()\n",
    "plt.show()"
   ]
  },
  {
   "cell_type": "markdown",
   "id": "cca4f2e4-00c4-486c-a7ba-333ba698270e",
   "metadata": {
    "editable": true,
    "slideshow": {
     "slide_type": ""
    },
    "tags": []
   },
   "source": [
    "## Conclusion ##\n",
    "\n",
    "Method 1:\n",
    "\n",
    "+ Pros:\n",
    "  + Monthly payment decreases with time, which will lower the pressure of the debtor in the future.\n",
    "  + Lower total amount paid to the bank than method 2.\n",
    "\n",
    "+ Cons:\n",
    "  + A higher monthly payment during the first a few years than method 2, which might be too much pressure for some debtors.\n",
    "\n",
    "Method 2:\n",
    "\n",
    "+ Pros:\n",
    "  + Monthly payment in the first a few years is lower than method 1, which will lower the pressure of the debtor.\n",
    "  + Monthly payment is constant, which is stable for some debtors.\n",
    "\n",
    "+ Cons:\n",
    "  + Higher total amount paid to the bank than method 1\n",
    "\n",
    "\n",
    "Banks tend to recommend method 2 to most people, because it has a lower income requirement for the debtors, which then allows banks to have more debtors. Moreover, in total, banks receive more interest with method 2.\n"
   ]
  }
 ],
 "metadata": {
  "kernelspec": {
   "display_name": "Python 3 (ipykernel)",
   "language": "python",
   "name": "python3"
  },
  "language_info": {
   "codemirror_mode": {
    "name": "ipython",
    "version": 3
   },
   "file_extension": ".py",
   "mimetype": "text/x-python",
   "name": "python",
   "nbconvert_exporter": "python",
   "pygments_lexer": "ipython3",
   "version": "3.11.8"
  }
 },
 "nbformat": 4,
 "nbformat_minor": 5
}
