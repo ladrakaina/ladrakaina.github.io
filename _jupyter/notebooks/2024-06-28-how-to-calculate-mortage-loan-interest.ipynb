{
 "cells": [
  {
   "cell_type": "raw",
   "id": "6da485ce-de51-4899-a09c-8b8d9956e988",
   "metadata": {
    "editable": true,
    "raw_mimetype": "",
    "slideshow": {
     "slide_type": ""
    },
    "tags": []
   },
   "source": [
    "---\n",
    "layout: article\n",
    "title: How to calculate mortgage loan interest and payment?\n",
    "custom_css: article.css\n",
    "include_mathjax: true\n",
    "---"
   ]
  },
  {
   "cell_type": "code",
   "execution_count": null,
   "id": "5401dd51-3aa6-43f0-b2d8-29db4cee2e24",
   "metadata": {
    "editable": true,
    "execution": {
     "iopub.execute_input": "2024-07-03T11:54:14.013196Z",
     "iopub.status.busy": "2024-07-03T11:54:14.012679Z",
     "iopub.status.idle": "2024-07-03T11:54:14.020929Z",
     "shell.execute_reply": "2024-07-03T11:54:14.019978Z"
    },
    "slideshow": {
     "slide_type": ""
    },
    "tags": [
     "remove_input"
    ]
   },
   "outputs": [],
   "source": [
    "# define watermark \n",
    "def add_watermark(ax, x, y):\n",
    "    ax.text(ax.get_xlim()[0]+ x,\n",
    "            ax.get_ylim()[0]+ y,\n",
    "            \"grandragonrealty.com\",\n",
    "            alpha=0.3, fontsize=16)\n"
   ]
  },
  {
   "cell_type": "markdown",
   "id": "253566b8-702e-4c44-b96f-8f1667fc9f4b",
   "metadata": {
    "editable": true,
    "slideshow": {
     "slide_type": ""
    },
    "tags": []
   },
   "source": [
    "In China, there are two methods for mortgage loan payment:\n",
    "\n",
    "+ Method 1: Equal principal\n",
    "+ Method 2: Equal monthly payment\n",
    "\n",
    "## Method 1: Equal principal ##\n",
    "\n",
    "Every month, the debtor pays back an equal amount of principal, plus interest. Interest equals to the unpaid principal multiplied by interest rate.\n",
    "\n",
    "$$\n",
    "X_{n} = \\frac{P}{12y} + P(1-(\\frac{n-1}{12y}))(\\frac{R}{12})\n",
    "$$\n",
    "\n",
    "$X_{n}$: n month's payment\n",
    "\n",
    "$P$: The principal that is borrowed from the bank\n",
    "\n",
    "$y$: Number of years for the mortage loan\n",
    "\n",
    "$R$: Yearly interest rate\n",
    "\n",
    "After the loan is completely paid off under method 1, how much in total ($T_{I}$) have you paid to the bank?\n",
    "\n",
    "$$\n",
    "T_{I} = P + \\sum_{i=1}^nP(1-(\\frac{n-1}{12y}))(\\frac{R}{12})\n",
    "$$\n",
    "  \n",
    "If we assume that you took a 100,000-dollar and 20-year loan from the bank with 5% yearly interest rate, let's look at with time how $X_{n}$ changes. \n",
    "\n",
    "From Figure 1, we can see the monthly payment (green line) decreases linearly with time; The principal paid monthly (yellow line) stays constant; The interest paid monthly (purple line) decreases linearly with time. "
   ]
  },
  {
   "cell_type": "code",
   "execution_count": null,
   "id": "4557c941-ab8f-401b-bd6e-c5e165ee901c",
   "metadata": {
    "editable": true,
    "execution": {
     "iopub.execute_input": "2024-07-03T11:54:14.024685Z",
     "iopub.status.busy": "2024-07-03T11:54:14.024404Z",
     "iopub.status.idle": "2024-07-03T11:54:14.584960Z",
     "shell.execute_reply": "2024-07-03T11:54:14.584045Z"
    },
    "slideshow": {
     "slide_type": ""
    },
    "tags": [
     "remove_input"
    ]
   },
   "outputs": [],
   "source": [
    "import numpy as np\n",
    "import matplotlib.pyplot as plt\n",
    "\n",
    "def equal_monthly_principal(P: float, y: int) -> float:\n",
    "    \"\"\"\n",
    "    Calculate the monthly payment for the n-th month under the equal principal method.\n",
    "    \n",
    "    Parameters:\n",
    "    n (int): Month number\n",
    "    P (float): Principal amount\n",
    "    y (int): Number of years for the mortgage\n",
    "    R (float): Annual interest rate (in decimal, e.g., 0.05 for 5%)\n",
    "    \n",
    "    Returns:\n",
    "    float: Monthly payment for the n-th month\n",
    "    \"\"\"\n",
    "    monthly_principal = P / (12 * y)\n",
    "    \n",
    "    return monthly_principal\n",
    "\n",
    "def equal_principal_interest(n: int, P: float, y: int, R: float) -> float:\n",
    "    \"\"\"\n",
    "    Calculate the monthly payment for the n-th month under the equal principal method.\n",
    "    \n",
    "    Parameters:\n",
    "    n (int): Month number\n",
    "    P (float): Principal amount\n",
    "    y (int): Number of years for the mortgage\n",
    "    R (float): Annual interest rate (in decimal, e.g., 0.05 for 5%)\n",
    "    \n",
    "    Returns:\n",
    "    float: Monthly payment for the n-th month\n",
    "    \"\"\"\n",
    "    monthly_interest = P * (1 - (n - 1) / (12 * y)) * (R / 12)\n",
    "    return monthly_interest\n",
    "\n",
    "\n",
    "def equal_principal_payment(n: int, P: float, y: int, R: float) -> float:\n",
    "    \"\"\"\n",
    "    Calculate the monthly payment for the n-th month under the equal principal method.\n",
    "    \n",
    "    Parameters:\n",
    "    n (int): Month number\n",
    "    P (float): Principal amount\n",
    "    y (int): Number of years for the mortgage\n",
    "    R (float): Annual interest rate (in decimal, e.g., 0.05 for 5%)\n",
    "    \n",
    "    Returns:\n",
    "    float: Monthly payment for the n-th month\n",
    "    \"\"\"\n",
    "    equal_principal_payment = equal_monthly_principal(P, y) + equal_principal_interest(n, P, y, R)\n",
    "    return equal_principal_payment\n",
    "\n",
    "def total_payment_equal_principal(n: int, P: float, y: int, R: float) -> float:\n",
    "    \"\"\"\n",
    "    Calculate the total payment under the equal principal method.\n",
    "    \n",
    "    Parameters:\n",
    "    P (float): Principal amount\n",
    "    y (int): Number of years for the mortgage\n",
    "    R (float): Annual interest rate (in decimal, e.g., 0.05 for 5%)\n",
    "    \n",
    "    Returns:\n",
    "    float: Total payment amount\n",
    "    \"\"\"\n",
    "    total_payment = 0\n",
    "    for n in range(1, n + 1):\n",
    "        total_payment += equal_principal_payment(n, P, y, R)\n",
    "    return total_payment\n",
    "\n",
    "def monthly_payment_equal(P: float, y: int, R: float) -> float:\n",
    "    \"\"\"\n",
    "    Calculate the fixed monthly payment under the equal monthly payment method.\n",
    "    \n",
    "    Parameters:\n",
    "    P (float): Principal amount\n",
    "    y (int): Number of years for the mortgage\n",
    "    R (float): Annual interest rate (in decimal, e.g., 0.05 for 5%)\n",
    "    \n",
    "    Returns:\n",
    "    float: Fixed monthly payment amount\n",
    "    \"\"\"\n",
    "    monthly_rate = R / 12\n",
    "    num_payments = 12 * y\n",
    "    return P * monthly_rate * (1 + monthly_rate) ** num_payments / ((1 + monthly_rate) ** num_payments - 1)\n",
    "\n",
    "def monthly_payment_equal_interest(n:int, P: float, y: int, R: float) -> float:\n",
    "    \"\"\"\n",
    "    Calculate the monthly interest under the equal monthly payment method.\n",
    "    \n",
    "    Parameters:\n",
    "    n (int): Month number\n",
    "    P (float): Principal amount\n",
    "    y (int): Number of years for the mortgage\n",
    "    R (float): Annual interest rate (in decimal, e.g., 0.05 for 5%)\n",
    "    \n",
    "    Returns:\n",
    "    float: monthly interest\n",
    "    \"\"\"\n",
    "    monthly_payment = monthly_payment_equal(P, y, R)\n",
    "    monthly_rate = R/12\n",
    "    l_n_minus_one =  P * (1+monthly_rate)**(n-1) + monthly_payment * (1-(1+monthly_rate)**(n-1))/monthly_rate\n",
    "    return l_n_minus_one * monthly_rate\n",
    "\n",
    "def monthly_payment_equal_principal(n:int, P: float, y: int, R: float) -> float:\n",
    "    \"\"\"\n",
    "    Calculate the monthly principal under the equal monthly payment method.\n",
    "    \n",
    "    Parameters:\n",
    "    n (int): Month number\n",
    "    P (float): Principal amount\n",
    "    y (int): Number of years for the mortgage\n",
    "    R (float): Annual interest rate (in decimal, e.g., 0.05 for 5%)\n",
    "    \n",
    "    Returns:\n",
    "    float: monthly principal\n",
    "    \"\"\"\n",
    "    return monthly_payment_equal(P, y, R) - monthly_payment_equal_interest(n, P, y, R)\n",
    "\n",
    "\n",
    "def total_payment_equal(P: float, y: int, R: float) -> float:\n",
    "    \"\"\"\n",
    "    Calculate the total payment under the equal monthly payment method.\n",
    "    \n",
    "    Parameters:\n",
    "    P (float): Principal amount\n",
    "    y (int): Number of years for the mortgage\n",
    "    R (float): Annual interest rate (in decimal, e.g., 0.05 for 5%)\n",
    "    \n",
    "    Returns:\n",
    "    float: Total payment amount\n",
    "    \"\"\"\n",
    "    monthly_payment = monthly_payment_equal(P, y, R)\n",
    "    num_payments = 12 * y\n",
    "    return monthly_payment * num_payments"
   ]
  },
  {
   "cell_type": "code",
   "execution_count": null,
   "id": "50e7b551-531c-4518-8d35-ddf5ece8b213",
   "metadata": {
    "editable": true,
    "execution": {
     "iopub.execute_input": "2024-07-03T11:54:14.589059Z",
     "iopub.status.busy": "2024-07-03T11:54:14.588283Z",
     "iopub.status.idle": "2024-07-03T11:54:14.837529Z",
     "shell.execute_reply": "2024-07-03T11:54:14.836678Z"
    },
    "slideshow": {
     "slide_type": ""
    },
    "tags": [
     "remove_input"
    ]
   },
   "outputs": [],
   "source": [
    "# get plotting libs\n",
    "import matplotlib.pyplot as plt\n",
    "import numpy as np\n",
    "\n",
    "# set initial figure counter to 1\n",
    "fig_count = 1\n",
    "\n",
    "# set the style to a dark theme\n",
    "plt.style.use(\"dark_background\")\n",
    "\n",
    "# match website background\n",
    "plt.rcParams[\"figure.facecolor\"] = \"#181818\"\n",
    "plt.rcParams[\"axes.facecolor\"] = \"#181818\"\n",
    "plt.rcParams[\"axes.edgecolor\"] = \"#181818\"\n",
    "\n",
    "# set values\n",
    "P = 100000\n",
    "y = 20\n",
    "R = 0.05\n",
    "\n",
    "\n",
    "# generate n/Xn pairs\n",
    "n_values = np.arange(0, 240, 1)\n",
    "x_n_values = np.array([equal_principal_payment(n, P, y, R) for n in n_values])\n",
    "monthly_principal = np.array([equal_monthly_principal(P, y) for n in n_values])\n",
    "monthly_interest = np.array([equal_principal_interest(n, P, y, R) for n in n_values])\n",
    "\n",
    "fig, ax = plt.subplots(figsize=(8, 6))\n",
    "# plotting the data\n",
    "plt.plot(n_values, x_n_values, label=\"Monthly payment\")\n",
    "plt.plot(n_values, monthly_principal, label=\"Monthly principal\")\n",
    "plt.plot(n_values, monthly_interest, label=\"Monthly interest\")\n",
    "\n",
    "# add watermark\n",
    "add_watermark(ax, 100, 100)\n",
    "\n",
    "\n",
    "# adding labels and title\n",
    "plt.xlabel(\"Month\")\n",
    "plt.ylabel(\"Monthly payment ($)\")\n",
    "plt.ylim(0, 1000)\n",
    "# set title\n",
    "plt.suptitle(\n",
    "     f\"Figure {fig_count}. Monthly payment of the Mortgage Loan Under Equal Principal Method\", y=0.0001, fontsize=10,\n",
    ")\n",
    "\n",
    "fig_count += 1\n",
    "\n",
    "# displaying the plot\n",
    "plt.legend()\n",
    "plt.show()"
   ]
  },
  {
   "cell_type": "markdown",
   "id": "0551ffad-262c-4a1c-aa5f-fe25bd29a101",
   "metadata": {
    "editable": true,
    "slideshow": {
     "slide_type": ""
    },
    "tags": []
   },
   "source": [
    "In Figure 2, we calculated the total amount of money paid up till nth month. When the loan is completely paid off, the total Payment under method one is:\n",
    "\n",
    "$$\n",
    "T_{I} = 150208.33\n",
    "$$"
   ]
  },
  {
   "cell_type": "code",
   "execution_count": null,
   "id": "4677a593-0dcb-473c-b3c0-1ec6054d2067",
   "metadata": {
    "editable": true,
    "execution": {
     "iopub.execute_input": "2024-07-03T11:54:14.840842Z",
     "iopub.status.busy": "2024-07-03T11:54:14.840309Z",
     "iopub.status.idle": "2024-07-03T11:54:14.845232Z",
     "shell.execute_reply": "2024-07-03T11:54:14.844276Z"
    },
    "slideshow": {
     "slide_type": ""
    },
    "tags": [
     "remove_input",
     "remove_output"
    ]
   },
   "outputs": [],
   "source": [
    "n = 12 * y\n",
    "total_method_1 = total_payment_equal_principal(n, P, y, R) "
   ]
  },
  {
   "cell_type": "code",
   "execution_count": null,
   "id": "762c5df0-cd0f-4f52-85ba-4424166815f0",
   "metadata": {
    "editable": true,
    "execution": {
     "iopub.execute_input": "2024-07-03T11:54:14.848317Z",
     "iopub.status.busy": "2024-07-03T11:54:14.847999Z",
     "iopub.status.idle": "2024-07-03T11:54:15.140944Z",
     "shell.execute_reply": "2024-07-03T11:54:15.139912Z"
    },
    "slideshow": {
     "slide_type": ""
    },
    "tags": [
     "remove_input"
    ]
   },
   "outputs": [],
   "source": [
    "# generate n/total_n pairs\n",
    "total_n = np.array([total_payment_equal_principal(n, P, y, R) for n in n_values])\n",
    "\n",
    "fig, ax = plt.subplots(figsize=(8, 6))\n",
    "# plotting the data\n",
    "plt.plot(n_values, total_n, label=\"Total payment\")\n",
    "\n",
    "# add watermark\n",
    "add_watermark(ax, 100, 50000)\n",
    "\n",
    "# adding labels and title\n",
    "plt.xlabel(\"Month\")\n",
    "plt.ylabel(\"Total payment ($)\")\n",
    "plt.ylim(0, 200000)\n",
    "# set title\n",
    "plt.suptitle(\n",
    "     f\"Figure {fig_count}. Total payment of the Mortgage Loan Under Equal Principal Method\", y=0.0001, fontsize=10,\n",
    ")\n",
    "\n",
    "fig_count += 1\n",
    "\n",
    "# displaying the plot\n",
    "plt.legend()\n",
    "plt.show()"
   ]
  },
  {
   "cell_type": "markdown",
   "id": "7f5c5f1a-c448-40b6-b42d-dd05b528eaf4",
   "metadata": {
    "editable": true,
    "slideshow": {
     "slide_type": ""
    },
    "tags": []
   },
   "source": [
    "## Method 2: Equal monthly payment ##\n",
    "\n",
    "\n",
    "### Monthly payment ###\n",
    "\n",
    "\n",
    "Every month, the debtor pays back an equal payment, i.e. sum of principal and interest.\n",
    "\n",
    "This method is more complicated to calculate than the first one, so I will explain in detail.\n",
    "\n",
    "$L$: The rest of the principal that needs to be paid to the bank\n",
    "\n",
    "$P$: The total principal borrowed from the bank\n",
    "\n",
    "$r$: Monthly interest rate, $r = R/12$, $R$ is yearly interest rate\n",
    "\n",
    "$X$: Monthly payment to the bank\n",
    "\n",
    "$Y$: The number of years for the loan\n",
    "\n",
    "At the end of the `1st month`, after the first payment, the amount of loan left:\n",
    "\n",
    "$$\n",
    "L_{1}= P(1+r) - X\n",
    "$$\n",
    "\n",
    "\n",
    "`2nd month`, the amount of loan left: \n",
    "\n",
    "$$\n",
    "L_{2} = L_{1}(1+r) - X = (P(1+r) - X)(1+r) - X = P(1+r)^2 - X(1+(1+r))\n",
    "$$\n",
    "\n",
    "`3rd month`: \n",
    "\n",
    "$$\n",
    "L_{3} = L_{2}(1+r) - X = {P(1+r)^2 - X(1+(1+r))}(1+r) - X = P(1+r)^3 - X(1+(1+r)+(1+r)^2)\n",
    "$$\n",
    "\n",
    "or \n",
    "\n",
    "$$\n",
    "L_{3} = P(1+r)^3 - X(1+(1+r)+(1+r)^2)\n",
    "$$\n",
    "\n",
    "`4th month`:\n",
    "$$\n",
    "L_{4} = P(1+r)^4 - X(1+(1+r)+(1+r)^2+(1+r)^3)\n",
    "$$\n",
    "\n",
    "...\n",
    "\n",
    "`Nth month`:\n",
    "\n",
    "$$\n",
    "L_{n} = P(1+r)^n - X(1+(1+r)+(1+r)^2+...+(1+r)^{n-1})\n",
    "$$\n",
    "\n",
    "Let's observe the second part of the equation $X(1+(1+r)+(1+r)^2+...+(1+r)^{n-1})$ contains a geometric series. Let's briefly review the formula of geometric series:\n",
    "\n",
    "$$\n",
    "S_{n} = a + aj + aj^2 + aj^3 + ... + aj^{n-1}\n",
    "$$\n",
    "\n",
    "$$\n",
    "jS_{n} = aj + aj^2 + aj^2 + aj^3 + ... + aj^{n-1} + aj^n\n",
    "$$\n",
    "\n",
    "$$\n",
    "(1-j)S_{n} = a - aj^n\n",
    "$$\n",
    "\n",
    "$$\n",
    "S_{n} = \\frac{a(1-j^n)}{1-j}\n",
    "$$\n",
    "\n",
    "\n",
    "therefore we can further simplify the above loan equation:\n",
    "\n",
    "$$\n",
    "L_{n} = P(1+r)^n + X{\\frac{1-(1+r)^n}{r}}\n",
    "$$\n",
    "\n",
    "When the loan is completely paid off, i.e. $n = 12Y, L_{12Y} = 0$, and since $P$ and $r$ are known, we can finally  calculate monthly payment $X$:\n",
    "\n",
    "$$\n",
    "X = \\frac{rP(1+r)^n}{(1+r)^n-1}\n",
    "$$\n",
    "\n",
    "And we can also replace the monthly interest rate $r$ with yearly rate $R$, which is normally given by the banks:\n",
    "\n",
    "$$\n",
    "X = \\frac{\\frac{R}{12}P(1+\\frac{R}{12})^n}{(1+\\frac{R}{12})^n-1}\n",
    "$$"
   ]
  },
  {
   "cell_type": "markdown",
   "id": "e931fee3-cb2f-4dfc-a323-89cb8b618588",
   "metadata": {
    "editable": true,
    "slideshow": {
     "slide_type": ""
    },
    "tags": []
   },
   "source": [
    "After calculating monthly payment $X$, let's see how much interest and principal the debtor is paying to the bank every month.\n",
    "\n",
    "\n",
    "### Monthly Interest ###\n",
    "\n",
    "\n",
    "The interest equals to the money (principal) the debtor still owes the bank multiplied by interest rate. \n",
    "\n",
    "At the end of the `1st month`:\n",
    "\n",
    "$$\n",
    "I_{1} = P \\times r\n",
    "$$\n",
    "\n",
    "`2nd month`\n",
    "\n",
    "$$\n",
    "I_{2} = L_{1} \\times r\n",
    "$$\n",
    "\n",
    "`3rd month`\n",
    "\n",
    "$$\n",
    "I_{3} = L_{2} \\times r\n",
    "$$\n",
    "\n",
    "...\n",
    "\n",
    "`Nth month`\n",
    "\n",
    "$$\n",
    "I_{n} = L_{n-1} \\times r  \n",
    "$$\n",
    "\n",
    "\n",
    "### Monthly Principal ###\n",
    "\n",
    "\n",
    "Since we have already calculated monthly payment $X$ and interest $I$, it's easy to calculate the principal the debtor is paying every month.\n",
    "\n",
    "$$\n",
    "P_{n} = X - I_{n}\n",
    "$$"
   ]
  },
  {
   "cell_type": "markdown",
   "id": "9850b59e-7cfd-4fa2-9911-4c9265f2fc1b",
   "metadata": {
    "editable": true,
    "slideshow": {
     "slide_type": ""
    },
    "tags": []
   },
   "source": [
    "Let's look at an example of a mortgage loan payment under method 2. We'll continue to use the example from method 1: assume that you took a 100,000-dollar and 20-year loan from the bank with 5% yearly interest rate, let's look at with time how monthly payment, interest and principal changes.\n",
    "\n",
    "In Figure 3, the monthly payment is constant; the monthly interest decreases with time; the monthly principal paid to the bank increases with time. In the beginning, the interest is higher than the principal paid back to the bank, which means in your monthly payment, majority of what you are paying is interest."
   ]
  },
  {
   "cell_type": "code",
   "execution_count": null,
   "id": "bba613d8-2b83-47c0-8895-53b945ae7a76",
   "metadata": {
    "editable": true,
    "execution": {
     "iopub.execute_input": "2024-07-03T11:54:15.147016Z",
     "iopub.status.busy": "2024-07-03T11:54:15.146588Z",
     "iopub.status.idle": "2024-07-03T11:54:15.395437Z",
     "shell.execute_reply": "2024-07-03T11:54:15.394688Z"
    },
    "slideshow": {
     "slide_type": ""
    },
    "tags": [
     "remove_input"
    ]
   },
   "outputs": [],
   "source": [
    "# generate n/Xn pairs\n",
    "n_values = np.arange(1, 240, 1)\n",
    "x_n_values = np.array([monthly_payment_equal(P, y, R) for n in n_values])\n",
    "monthly_interest = np.array([monthly_payment_equal_interest(n, P, y, R) for n in n_values])\n",
    "monthly_principal = np.array([monthly_payment_equal_principal(n, P, y, R) for n in n_values])\n",
    "\n",
    "fig, ax = plt.subplots(figsize=(8, 6))\n",
    "# plotting the data\n",
    "plt.plot(n_values, x_n_values, label=\"Monthly payment\")\n",
    "plt.plot(n_values, monthly_principal, label=\"Monthly principal\")\n",
    "plt.plot(n_values, monthly_interest, label=\"Monthly interest\")\n",
    "\n",
    "# add watermark\n",
    "add_watermark(ax, 100, 100)\n",
    "\n",
    "\n",
    "# adding labels and title\n",
    "plt.xlabel(\"Month\")\n",
    "plt.ylabel(\"Monthly payment ($)\")\n",
    "plt.ylim(0, 1000)\n",
    "# set title\n",
    "plt.suptitle(\n",
    "     f\"Figure {fig_count}. Monthly payment of the Mortgage Loan Under Equal Payment Method\", y=0.0001, fontsize=10,\n",
    ")\n",
    "\n",
    "fig_count += 1\n",
    "\n",
    "# displaying the plot\n",
    "plt.legend()\n",
    "plt.show()"
   ]
  },
  {
   "cell_type": "markdown",
   "id": "c523bca7-00f2-40ee-9c68-3f84da4b965f",
   "metadata": {
    "editable": true,
    "slideshow": {
     "slide_type": ""
    },
    "tags": []
   },
   "source": [
    "Now let's look at under method 2, when the loan is completely paid off, how much have you paid?\n",
    "\n",
    "$$\n",
    "T_{II} = X \\times 12y\n",
    "$$\n",
    "\n",
    "When the loan is completely paid off, the total Payment under method two is:\n",
    "\n",
    "$$\n",
    "T_{II} = 157729.42\n",
    "$$\n",
    "\n",
    "and \n",
    "\n",
    "$$\n",
    "T_{I} = 150208.33\n",
    "$$\n",
    "\n",
    "Obviously the total payment of the first method is lower than that of the second method. "
   ]
  },
  {
   "cell_type": "markdown",
   "id": "cca4f2e4-00c4-486c-a7ba-333ba698270e",
   "metadata": {
    "editable": true,
    "slideshow": {
     "slide_type": ""
    },
    "tags": []
   },
   "source": [
    "## Conclusion ##\n",
    "\n",
    "Method 1:\n",
    "\n",
    "+ Pros:\n",
    "  + Monthly payment decreases with time, which will lower the pressure of the debtor in the future.\n",
    "  + Lower total amount paid to the bank than method 2.\n",
    "\n",
    "+ Cons:\n",
    "  + A higher monthly payment during the first a few years than method 2, which might be too much pressure for some debtors.\n",
    "\n",
    "Method 2:\n",
    "\n",
    "+ Pros:\n",
    "  + Monthly payment in the first a few years is lower than method 1, which will lower the pressure of the debtor.\n",
    "  + Monthly payment is constant, which is stable for some debtors.\n",
    "\n",
    "+ Cons:\n",
    "  + Higher total amount paid to the bank than method 1\n",
    "\n",
    "\n",
    "Banks tend to recommend method 2 to most people, because it has a lower income requirement for the debtors, which then allows banks to have more debtors. Moreover, in total, banks receive more interest with method 2.\n"
   ]
  }
 ],
 "metadata": {
  "kernelspec": {
   "display_name": "Python 3 (ipykernel)",
   "language": "python",
   "name": "python3"
  },
  "language_info": {
   "codemirror_mode": {
    "name": "ipython",
    "version": 3
   },
   "file_extension": ".py",
   "mimetype": "text/x-python",
   "name": "python",
   "nbconvert_exporter": "python",
   "pygments_lexer": "ipython3",
   "version": "3.11.8"
  }
 },
 "nbformat": 4,
 "nbformat_minor": 5
}
