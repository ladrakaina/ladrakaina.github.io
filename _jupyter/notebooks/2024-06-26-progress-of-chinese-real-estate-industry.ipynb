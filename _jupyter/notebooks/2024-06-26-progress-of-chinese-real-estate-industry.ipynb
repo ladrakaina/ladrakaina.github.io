{
 "cells": [
  {
   "cell_type": "raw",
   "id": "b6ab6b96-9c81-4e30-b2ba-8e53c07bd379",
   "metadata": {
    "editable": true,
    "raw_mimetype": "",
    "slideshow": {
     "slide_type": ""
    },
    "tags": []
   },
   "source": [
    "---\n",
    "layout: article\n",
    "title: Progress of the Chinese Real Estate Industry in the Past 20 Years\n",
    "custom_css: article.css\n",
    "include_mathjax: true\n",
    "---"
   ]
  },
  {
   "cell_type": "code",
   "execution_count": null,
   "id": "6fee3b8c-1873-429b-8705-83683622220e",
   "metadata": {
    "editable": true,
    "execution": {
     "iopub.execute_input": "2024-07-02T09:26:54.478403Z",
     "iopub.status.busy": "2024-07-02T09:26:54.477417Z",
     "iopub.status.idle": "2024-07-02T09:26:55.536642Z",
     "shell.execute_reply": "2024-07-02T09:26:55.535862Z"
    },
    "slideshow": {
     "slide_type": ""
    },
    "tags": [
     "remove_input"
    ]
   },
   "outputs": [],
   "source": [
    "# import necessary libs (available in jupyter/scipy-notebook docker image)\n",
    "import os\n",
    "import pandas as pd \n",
    "import numpy as np\n",
    "import matplotlib.pyplot as plt \n",
    "from matplotlib.ticker import FormatStrFormatter\n",
    "\n",
    "# define watermark \n",
    "def add_watermark(ax, x, y):\n",
    "    ax.text(ax.get_xlim()[0]+ x,\n",
    "            ax.get_ylim()[0]+ y,\n",
    "            \"grandragonrealty.com\",\n",
    "            alpha=0.3, fontsize=16)\n",
    "\n",
    "\n",
    "# globals\n",
    "HOME_DIR = '/home/jovyan/_jupyter'\n",
    "DATA_DIR = os.path.join(HOME_DIR, 'data')\n",
    "\n",
    "# read in csv data\n",
    "gdps = pd.read_csv(os.path.join(DATA_DIR, 'real_estate_gdp.csv'))"
   ]
  },
  {
   "cell_type": "markdown",
   "id": "e98a4769-900d-4f94-b814-7d73fd157f0d",
   "metadata": {
    "editable": true,
    "slideshow": {
     "slide_type": ""
    },
    "tags": []
   },
   "source": [
    "The real estate market of China accounts for a considerable share of her economy, however, it has been experiencing a crisis since last year. In this article, I want to review the market value changes of the Chinese real estate market.\n",
    "\n",
    "First let's clarify a few definitions:\n",
    "\n",
    "+ GDP: [gross domestic product](https://en.wikipedia.org/wiki/Gross_domestic_product).\n",
    "  \n",
    "+ Market value: in this article it means the overall value of a industry, including products and services.\n",
    "\n",
    "+ Market share: market value / GDP\n",
    "\n",
    "Figure 1 shows that in the past 20 years (2004 - 2023), Chinese real estate grew significantly. The market value of 2023 is more than 10 times of 2004 (31591.2 vs. 3099.8 billion RMB, respectively). Meanwhile the GDP of China grew around 8 times. This indicates that the rapidity of development in the real estate industry. \n",
    "\n",
    "Despite the ascending trend overall, there are three periods during the past 20 years, the growth was slower: 2007-2009, 2014-2015 and 2022-2023. \n",
    "\n",
    "As shown in Figure 2, the GDP growth of China was also slower during 2008-2009, but didn't slow down during 2014-2015 or 2022-2023.\n",
    "\n",
    "Based on the data, it's hard to say for sure whether the growth of market value will continue to slow down."
   ]
  },
  {
   "cell_type": "code",
   "execution_count": null,
   "id": "d6d26e3a-5830-4a84-a902-7d14f2b3aba8",
   "metadata": {
    "editable": true,
    "execution": {
     "iopub.execute_input": "2024-07-02T09:26:55.539793Z",
     "iopub.status.busy": "2024-07-02T09:26:55.539524Z",
     "iopub.status.idle": "2024-07-02T09:26:55.732817Z",
     "shell.execute_reply": "2024-07-02T09:26:55.731876Z"
    },
    "slideshow": {
     "slide_type": ""
    },
    "tags": [
     "remove_input"
    ]
   },
   "outputs": [],
   "source": [
    "# visualize the gdp changes in real estate\n",
    "fig_count = 1\n",
    "df = gdps[:20]\n",
    "\n",
    "x = df['Year']\n",
    "y = df['Real_Estate_GDP_100mil']\n",
    "\n",
    "\n",
    "# set the style to a dark theme\n",
    "plt.style.use(\"dark_background\")\n",
    "\n",
    "# match website background\n",
    "plt.rcParams[\"figure.facecolor\"] = \"#181818\"\n",
    "plt.rcParams[\"axes.facecolor\"] = \"#181818\"\n",
    "plt.rcParams[\"axes.edgecolor\"] = \"#181818\"\n",
    "\n",
    "fig, ax = plt.subplots(figsize=(8, 6))\n",
    "\n",
    "\n",
    "plt.scatter(x, y)\n",
    "plt.plot(x, y)\n",
    "\n",
    "# add watermark\n",
    "add_watermark(ax, 5, 50000)\n",
    "\n",
    "# set decimal points for x axis\n",
    "ax.xaxis.set_major_formatter(FormatStrFormatter('%.0f'))\n",
    "\n",
    "plt.xticks(rotation=0, fontsize=10)\n",
    "plt.yticks(fontsize=10)\n",
    "plt.ylabel('100 Million', fontsize=11)\n",
    "plt.xlabel('Year', fontsize=11)\n",
    "#plt.xlim([50, 110])\n",
    "# set title\n",
    "plt.suptitle(\n",
    "    f\"Figure {fig_count}. Progress of The Chinese Real Estate Market in the Past 20 Years\", y=0.0001, fontsize=10\n",
    ")\n",
    "fig_count += 1\n",
    "plt.legend('',frameon=False)\n",
    "plt.show()"
   ]
  },
  {
   "cell_type": "code",
   "execution_count": null,
   "id": "f19c581b-7652-4915-be5b-8886c73638bd",
   "metadata": {
    "editable": true,
    "execution": {
     "iopub.execute_input": "2024-07-02T09:26:55.735812Z",
     "iopub.status.busy": "2024-07-02T09:26:55.735492Z",
     "iopub.status.idle": "2024-07-02T09:26:55.910506Z",
     "shell.execute_reply": "2024-07-02T09:26:55.909705Z"
    },
    "slideshow": {
     "slide_type": ""
    },
    "tags": [
     "remove_input"
    ]
   },
   "outputs": [],
   "source": [
    "# visualize the overall gdp changes\n",
    "\n",
    "x = df['Year']\n",
    "y = df['Overall_GDP']\n",
    "\n",
    "\n",
    "# set the style to a dark theme\n",
    "plt.style.use(\"dark_background\")\n",
    "\n",
    "# match website background\n",
    "plt.rcParams[\"figure.facecolor\"] = \"#181818\"\n",
    "plt.rcParams[\"axes.facecolor\"] = \"#181818\"\n",
    "plt.rcParams[\"axes.edgecolor\"] = \"#181818\"\n",
    "\n",
    "fig, ax = plt.subplots(figsize=(8, 6))\n",
    "\n",
    "\n",
    "plt.scatter(x, y)\n",
    "plt.plot(x, y)\n",
    "\n",
    "# add watermark\n",
    "add_watermark(ax, 5, 50000)\n",
    "\n",
    "# set decimal points for x axis\n",
    "ax.xaxis.set_major_formatter(FormatStrFormatter('%.0f'))\n",
    "\n",
    "plt.xticks(rotation=0, fontsize=10)\n",
    "plt.yticks(fontsize=10)\n",
    "plt.ylabel('100 Million', fontsize=11)\n",
    "plt.xlabel('Year', fontsize=11)\n",
    "#plt.xlim([50, 110])\n",
    "# set title\n",
    "plt.suptitle(\n",
    "    f\"Figure {fig_count}. Progress of GDP of China in the Past 20 Years\", y=0.0001, fontsize=10\n",
    ")\n",
    "fig_count += 1\n",
    "plt.legend('',frameon=False)\n",
    "plt.show()"
   ]
  },
  {
   "cell_type": "markdown",
   "id": "346bbd41-eb2b-44cb-9b5c-4ffcc55d0fb4",
   "metadata": {
    "editable": true,
    "slideshow": {
     "slide_type": ""
    },
    "tags": []
   },
   "source": [
    "In Figure 3, we can see how the market share progressed in the past 20 years. Overall, the market share of real estate is not stable. In the first ten years, it reached to the highest in 2007 (24.42%), then dropped to below the privous year in 2008. From 2008 to 2014, it grew continuously, reaching the highest in 2014 (27.46%), but decreased again afterwards. From 2014 to 2023, in general, the market share was decreasing, even though it went back up some in 2020 and 2022. \n",
    "\n",
    "It's very probable that the market share of the real estate industry will continue to decrease in the future."
   ]
  },
  {
   "cell_type": "code",
   "execution_count": null,
   "id": "cb6b801d-462a-4569-9621-13c92da7ed8b",
   "metadata": {
    "editable": true,
    "execution": {
     "iopub.execute_input": "2024-07-02T09:26:55.913629Z",
     "iopub.status.busy": "2024-07-02T09:26:55.913311Z",
     "iopub.status.idle": "2024-07-02T09:26:56.078536Z",
     "shell.execute_reply": "2024-07-02T09:26:56.077766Z"
    },
    "slideshow": {
     "slide_type": ""
    },
    "tags": [
     "remove_input"
    ]
   },
   "outputs": [],
   "source": [
    "# visualize the gdp changes in real estate\n",
    "\n",
    "x = df['Year']\n",
    "y = df['Real_EstatePercentage'] * 100\n",
    "\n",
    "\n",
    "# set the style to a dark theme\n",
    "plt.style.use(\"dark_background\")\n",
    "\n",
    "# match website background\n",
    "plt.rcParams[\"figure.facecolor\"] = \"#181818\"\n",
    "plt.rcParams[\"axes.facecolor\"] = \"#181818\"\n",
    "plt.rcParams[\"axes.edgecolor\"] = \"#181818\"\n",
    "\n",
    "fig, ax = plt.subplots(figsize=(8, 6))\n",
    "\n",
    "\n",
    "plt.scatter(x, y)\n",
    "plt.plot(x, y)\n",
    "\n",
    "# add watermark\n",
    "add_watermark(ax, 5, 5)\n",
    "\n",
    "# set decimal points for x axis\n",
    "ax.xaxis.set_major_formatter(FormatStrFormatter('%.0f'))\n",
    "\n",
    "plt.xticks(rotation=0, fontsize=10)\n",
    "plt.yticks(fontsize=10)\n",
    "plt.ylabel('%', fontsize=11)\n",
    "plt.xlabel('Year', fontsize=11)\n",
    "#plt.xlim([50, 110])\n",
    "# set title\n",
    "plt.suptitle(\n",
    "    f\"Figure {fig_count}. Market Share of The Chinese Real Estate Industry in the Past 20 Years\", y=0.0001, fontsize=10\n",
    ")\n",
    "fig_count += 1\n",
    "plt.legend('',frameon=False)\n",
    "plt.show()"
   ]
  },
  {
   "cell_type": "markdown",
   "id": "98e99d0b-6f83-4cbc-9573-3856aa9666b4",
   "metadata": {
    "editable": true,
    "slideshow": {
     "slide_type": ""
    },
    "tags": []
   },
   "source": [
    "## Conclusion ##\n",
    "\n",
    "The market share of the real estate industry in GDP is very likely to continue decreasing, but it's hard to predict the future of the market value growth.\n",
    "\n",
    "Meanwhile, the analysis above raised the following questions to be explored:\n",
    "\n",
    "+ What are the causes for the slower growth of the real estate market?\n",
    "  \n",
    "+ What concequences would the slower growth of the real estate market lead to?\n",
    "  \n",
    "+ When the market share of the real estate industry decreased, what other industries' market share increased to support the continuously fast growth of GDP?"
   ]
  }
 ],
 "metadata": {
  "kernelspec": {
   "display_name": "Python 3 (ipykernel)",
   "language": "python",
   "name": "python3"
  },
  "language_info": {
   "codemirror_mode": {
    "name": "ipython",
    "version": 3
   },
   "file_extension": ".py",
   "mimetype": "text/x-python",
   "name": "python",
   "nbconvert_exporter": "python",
   "pygments_lexer": "ipython3",
   "version": "3.11.8"
  }
 },
 "nbformat": 4,
 "nbformat_minor": 5
}
